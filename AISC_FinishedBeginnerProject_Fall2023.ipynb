{
  "nbformat": 4,
  "nbformat_minor": 0,
  "metadata": {
    "colab": {
      "provenance": [],
      "authorship_tag": "ABX9TyO7PzGgunoBReA6hYNYpod1",
      "include_colab_link": true
    },
    "kernelspec": {
      "name": "python3",
      "display_name": "Python 3"
    },
    "language_info": {
      "name": "python"
    }
  },
  "cells": [
    {
      "cell_type": "markdown",
      "metadata": {
        "id": "view-in-github",
        "colab_type": "text"
      },
      "source": [
        "<a href=\"https://colab.research.google.com/github/rs0919/beginnerProject/blob/main/AISC_FinishedBeginnerProject_Fall2023.ipynb\" target=\"_parent\"><img src=\"https://colab.research.google.com/assets/colab-badge.svg\" alt=\"Open In Colab\"/></a>"
      ]
    },
    {
      "cell_type": "code",
      "execution_count": null,
      "metadata": {
        "id": "ff98fd27"
      },
      "outputs": [],
      "source": [
        "# Import Dependencies\n",
        "import numpy as np # numpy arrays, which are more efficient for math and ML operations\n",
        "import pandas as pd # used to read csv data\n",
        "\n",
        "from sklearn.model_selection import train_test_split # easily split data for testing and training\n",
        "from sklearn.svm import SVC # SVC linear ML algorithm\n",
        "from sklearn.metrics import accuracy_score # test how accurate our algorithm is"
      ]
    },
    {
      "cell_type": "code",
      "source": [
        "# load dataset\n",
        "car_data = pd.read_csv(\"car_data.csv\")"
      ],
      "metadata": {
        "id": "uwDOT5EkLVQY"
      },
      "execution_count": null,
      "outputs": []
    },
    {
      "cell_type": "code",
      "source": [
        "car_data.tail() # head returns the first couple of rows of the dataset"
      ],
      "metadata": {
        "id": "tzz5o6dghV5t"
      },
      "execution_count": null,
      "outputs": []
    },
    {
      "cell_type": "code",
      "source": [
        "# checking how many types of sizes there are\n",
        "size_types = [\"AUTOMATIC\", \"MANUAL\"]\n",
        "for i in range(11913):\n",
        "  size = car_data['Transmission Type'][i]\n",
        "  if size not in size_types:\n",
        "    #print(size)\n",
        "    size_types.append(size)\n",
        "\n",
        "print(size_types)"
      ],
      "metadata": {
        "colab": {
          "base_uri": "https://localhost:8080/"
        },
        "id": "qaDBARN96at8",
        "outputId": "c8bc7bdf-959e-4466-cfd2-552bd7739ac6"
      },
      "execution_count": null,
      "outputs": [
        {
          "output_type": "stream",
          "name": "stdout",
          "text": [
            "['AUTOMATIC', 'MANUAL', 'AUTOMATED_MANUAL', 'DIRECT_DRIVE', 'UNKNOWN']\n"
          ]
        }
      ]
    },
    {
      "cell_type": "code",
      "source": [
        "car_data.shape"
      ],
      "metadata": {
        "id": "IEhLI_fXhbmb"
      },
      "execution_count": null,
      "outputs": []
    },
    {
      "cell_type": "code",
      "source": [
        "# independent variable (X) will examine the different features of the car\n",
        "# Dependent variable (Y) will be the MSRP\n",
        "# we want to see how these features affect price\n",
        "\n",
        "# Some attributes like make and model aren't really important for us (subjective)\n",
        "X = car_data.dropna().drop(columns=[\"Make\", \"Model\", \"Market Category\", \"Engine Fuel Type\", \"Driven_Wheels\", \"Transmission Type\", \"Vehicle Style\", \"MSRP\"], axis = 1)\n",
        "\n",
        "# SVM model only deals with numbers so any non-number values have to be replaced\n",
        "#X['Transmission Type'].replace(to_replace={\"MANUAL\":0, \"AUTOMATIC\":1}, inplace=True)\n",
        "X['Vehicle Size'].replace(to_replace={\"Compact\":0, \"Midsize\":1, \"Large\":2}, inplace=True)\n",
        "\n",
        "# Y will just be the MSRP\n",
        "Y = car_data.dropna()[\"MSRP\"]\n",
        "\n",
        "# convert to numpy?\n",
        "#X_np = np.asarray(X)\n",
        "#Y_np = np.asarray(Y)"
      ],
      "metadata": {
        "id": "ZKg-eq8Dho9f"
      },
      "execution_count": null,
      "outputs": []
    },
    {
      "cell_type": "code",
      "source": [
        "# This is the main force behind our model. We split the data into training and testing data\n",
        "# training data will create model and testing data will make improvements\n",
        "X_train, X_test, Y_train, Y_test = train_test_split(X, Y, test_size = 0.97, random_state = 2)"
      ],
      "metadata": {
        "id": "HnRnhgMfkKFj"
      },
      "execution_count": null,
      "outputs": []
    },
    {
      "cell_type": "code",
      "source": [
        "scaler = StandardScaler()"
      ],
      "metadata": {
        "id": "m8C3txPSkgHW"
      },
      "execution_count": null,
      "outputs": []
    },
    {
      "cell_type": "code",
      "source": [
        "scaler.fit(X_train)\n",
        "scaler.transform(X_train)\n",
        "scaler.transform(X_test)"
      ],
      "metadata": {
        "id": "P0AWxkF3kjNh"
      },
      "execution_count": null,
      "outputs": []
    },
    {
      "cell_type": "code",
      "source": [
        "X_train"
      ],
      "metadata": {
        "id": "yvctNV0dBfnh"
      },
      "execution_count": null,
      "outputs": []
    },
    {
      "cell_type": "code",
      "source": [
        "Y_train"
      ],
      "metadata": {
        "id": "NT6-yc76CNgT"
      },
      "execution_count": null,
      "outputs": []
    },
    {
      "cell_type": "code",
      "execution_count": null,
      "metadata": {
        "id": "c08a10aa"
      },
      "outputs": [],
      "source": [
        "# load model\n",
        "# We are using a support vector machine, with a linear hyperplane\n",
        "# Used to segregate data into cars within our budget, and cars not in our budget\n",
        "model = SVC(kernel = \"linear\")"
      ]
    },
    {
      "cell_type": "code",
      "execution_count": null,
      "metadata": {
        "id": "3c586125"
      },
      "outputs": [],
      "source": [
        "# training model with the svm model\n",
        "X_np = np.asarray(X_train)\n",
        "Y_np = np.asarray(Y_train)\n",
        "model.fit(X_np, Y_np)"
      ]
    },
    {
      "cell_type": "code",
      "source": [
        "#from sklearn.pipeline import make_pipeline\n",
        "#model = make_pipeline(StandardScaler(), SVC(kernel='linear'))\n",
        "#model.fit(X_train, Y_train)"
      ],
      "metadata": {
        "colab": {
          "base_uri": "https://localhost:8080/",
          "height": 171
        },
        "id": "7XxyjXHFCkDU",
        "outputId": "c37faf40-55aa-45ee-fa20-779fbc623c3f"
      },
      "execution_count": null,
      "outputs": [
        {
          "output_type": "execute_result",
          "data": {
            "text/plain": [
              "Pipeline(steps=[('standardscaler', StandardScaler()),\n",
              "                ('svc', SVC(kernel='linear'))])"
            ],
            "text/html": [
              "<style>#sk-container-id-1 {color: black;background-color: white;}#sk-container-id-1 pre{padding: 0;}#sk-container-id-1 div.sk-toggleable {background-color: white;}#sk-container-id-1 label.sk-toggleable__label {cursor: pointer;display: block;width: 100%;margin-bottom: 0;padding: 0.3em;box-sizing: border-box;text-align: center;}#sk-container-id-1 label.sk-toggleable__label-arrow:before {content: \"▸\";float: left;margin-right: 0.25em;color: #696969;}#sk-container-id-1 label.sk-toggleable__label-arrow:hover:before {color: black;}#sk-container-id-1 div.sk-estimator:hover label.sk-toggleable__label-arrow:before {color: black;}#sk-container-id-1 div.sk-toggleable__content {max-height: 0;max-width: 0;overflow: hidden;text-align: left;background-color: #f0f8ff;}#sk-container-id-1 div.sk-toggleable__content pre {margin: 0.2em;color: black;border-radius: 0.25em;background-color: #f0f8ff;}#sk-container-id-1 input.sk-toggleable__control:checked~div.sk-toggleable__content {max-height: 200px;max-width: 100%;overflow: auto;}#sk-container-id-1 input.sk-toggleable__control:checked~label.sk-toggleable__label-arrow:before {content: \"▾\";}#sk-container-id-1 div.sk-estimator input.sk-toggleable__control:checked~label.sk-toggleable__label {background-color: #d4ebff;}#sk-container-id-1 div.sk-label input.sk-toggleable__control:checked~label.sk-toggleable__label {background-color: #d4ebff;}#sk-container-id-1 input.sk-hidden--visually {border: 0;clip: rect(1px 1px 1px 1px);clip: rect(1px, 1px, 1px, 1px);height: 1px;margin: -1px;overflow: hidden;padding: 0;position: absolute;width: 1px;}#sk-container-id-1 div.sk-estimator {font-family: monospace;background-color: #f0f8ff;border: 1px dotted black;border-radius: 0.25em;box-sizing: border-box;margin-bottom: 0.5em;}#sk-container-id-1 div.sk-estimator:hover {background-color: #d4ebff;}#sk-container-id-1 div.sk-parallel-item::after {content: \"\";width: 100%;border-bottom: 1px solid gray;flex-grow: 1;}#sk-container-id-1 div.sk-label:hover label.sk-toggleable__label {background-color: #d4ebff;}#sk-container-id-1 div.sk-serial::before {content: \"\";position: absolute;border-left: 1px solid gray;box-sizing: border-box;top: 0;bottom: 0;left: 50%;z-index: 0;}#sk-container-id-1 div.sk-serial {display: flex;flex-direction: column;align-items: center;background-color: white;padding-right: 0.2em;padding-left: 0.2em;position: relative;}#sk-container-id-1 div.sk-item {position: relative;z-index: 1;}#sk-container-id-1 div.sk-parallel {display: flex;align-items: stretch;justify-content: center;background-color: white;position: relative;}#sk-container-id-1 div.sk-item::before, #sk-container-id-1 div.sk-parallel-item::before {content: \"\";position: absolute;border-left: 1px solid gray;box-sizing: border-box;top: 0;bottom: 0;left: 50%;z-index: -1;}#sk-container-id-1 div.sk-parallel-item {display: flex;flex-direction: column;z-index: 1;position: relative;background-color: white;}#sk-container-id-1 div.sk-parallel-item:first-child::after {align-self: flex-end;width: 50%;}#sk-container-id-1 div.sk-parallel-item:last-child::after {align-self: flex-start;width: 50%;}#sk-container-id-1 div.sk-parallel-item:only-child::after {width: 0;}#sk-container-id-1 div.sk-dashed-wrapped {border: 1px dashed gray;margin: 0 0.4em 0.5em 0.4em;box-sizing: border-box;padding-bottom: 0.4em;background-color: white;}#sk-container-id-1 div.sk-label label {font-family: monospace;font-weight: bold;display: inline-block;line-height: 1.2em;}#sk-container-id-1 div.sk-label-container {text-align: center;}#sk-container-id-1 div.sk-container {/* jupyter's `normalize.less` sets `[hidden] { display: none; }` but bootstrap.min.css set `[hidden] { display: none !important; }` so we also need the `!important` here to be able to override the default hidden behavior on the sphinx rendered scikit-learn.org. See: https://github.com/scikit-learn/scikit-learn/issues/21755 */display: inline-block !important;position: relative;}#sk-container-id-1 div.sk-text-repr-fallback {display: none;}</style><div id=\"sk-container-id-1\" class=\"sk-top-container\"><div class=\"sk-text-repr-fallback\"><pre>Pipeline(steps=[(&#x27;standardscaler&#x27;, StandardScaler()),\n",
              "                (&#x27;svc&#x27;, SVC(kernel=&#x27;linear&#x27;))])</pre><b>In a Jupyter environment, please rerun this cell to show the HTML representation or trust the notebook. <br />On GitHub, the HTML representation is unable to render, please try loading this page with nbviewer.org.</b></div><div class=\"sk-container\" hidden><div class=\"sk-item sk-dashed-wrapped\"><div class=\"sk-label-container\"><div class=\"sk-label sk-toggleable\"><input class=\"sk-toggleable__control sk-hidden--visually\" id=\"sk-estimator-id-1\" type=\"checkbox\" ><label for=\"sk-estimator-id-1\" class=\"sk-toggleable__label sk-toggleable__label-arrow\">Pipeline</label><div class=\"sk-toggleable__content\"><pre>Pipeline(steps=[(&#x27;standardscaler&#x27;, StandardScaler()),\n",
              "                (&#x27;svc&#x27;, SVC(kernel=&#x27;linear&#x27;))])</pre></div></div></div><div class=\"sk-serial\"><div class=\"sk-item\"><div class=\"sk-estimator sk-toggleable\"><input class=\"sk-toggleable__control sk-hidden--visually\" id=\"sk-estimator-id-2\" type=\"checkbox\" ><label for=\"sk-estimator-id-2\" class=\"sk-toggleable__label sk-toggleable__label-arrow\">StandardScaler</label><div class=\"sk-toggleable__content\"><pre>StandardScaler()</pre></div></div></div><div class=\"sk-item\"><div class=\"sk-estimator sk-toggleable\"><input class=\"sk-toggleable__control sk-hidden--visually\" id=\"sk-estimator-id-3\" type=\"checkbox\" ><label for=\"sk-estimator-id-3\" class=\"sk-toggleable__label sk-toggleable__label-arrow\">SVC</label><div class=\"sk-toggleable__content\"><pre>SVC(kernel=&#x27;linear&#x27;)</pre></div></div></div></div></div></div></div>"
            ]
          },
          "metadata": {},
          "execution_count": 22
        }
      ]
    },
    {
      "cell_type": "code",
      "execution_count": null,
      "metadata": {
        "id": "1c992a24",
        "outputId": "dfcf113d-d521-4f23-b452-c9423bc41f6f",
        "colab": {
          "base_uri": "https://localhost:8080/"
        }
      },
      "outputs": [
        {
          "output_type": "stream",
          "name": "stdout",
          "text": [
            "Accuracy on training data:  1.0\n"
          ]
        }
      ],
      "source": [
        "# accuracy on training data\n",
        "X_train_prediction = model.predict(X_train)\n",
        "training_data_accuracy = accuracy_score(X_train_prediction, Y_train)\n",
        "print(\"Accuracy on training data: \", training_data_accuracy)"
      ]
    },
    {
      "cell_type": "code",
      "execution_count": null,
      "metadata": {
        "id": "4443149f",
        "outputId": "b392896b-512e-41e0-dc19-8c9439800243",
        "colab": {
          "base_uri": "https://localhost:8080/"
        }
      },
      "outputs": [
        {
          "output_type": "stream",
          "name": "stdout",
          "text": [
            "Accuracy on training data:  0.0203648175912044\n"
          ]
        }
      ],
      "source": [
        "# accuracy on test data\n",
        "X_test_prediction = model.predict(X_test)\n",
        "test_data_accuracy = accuracy_score(X_test_prediction, Y_test)\n",
        "print(\"Accuracy on training data: \", test_data_accuracy)"
      ]
    },
    {
      "cell_type": "code",
      "execution_count": null,
      "metadata": {
        "id": "da030ccd"
      },
      "outputs": [],
      "source": [
        "#input_data = [year, Horsepower, engine cylinders, # of doors, highway mpg, city mpg, popularity]\n",
        "input_data = [2015, 167, 4, 4, 30, 25, 500]\n",
        "budget = 35000 # how much you are willing to spend on a car"
      ]
    },
    {
      "cell_type": "code",
      "execution_count": null,
      "metadata": {
        "id": "0063a644",
        "outputId": "aa2ed5a6-0baf-46a2-e4c3-5a0a8d27a17d",
        "colab": {
          "base_uri": "https://localhost:8080/"
        }
      },
      "outputs": [
        {
          "output_type": "stream",
          "name": "stdout",
          "text": [
            "13299\n",
            "You can expect to buy this type of car given your budget\n"
          ]
        },
        {
          "output_type": "stream",
          "name": "stderr",
          "text": [
            "/usr/local/lib/python3.10/dist-packages/sklearn/base.py:439: UserWarning: X does not have valid feature names, but SVC was fitted with feature names\n",
            "  warnings.warn(\n"
          ]
        }
      ],
      "source": [
        "# changing input data to a numpy array\n",
        "input_data_as_numpy_arr = np.asarray(input_data)\n",
        "\n",
        "# reshape the numpy array as we're predicting for one instance\n",
        "input_data_reshaped = input_data_as_numpy_arr.reshape(1,-1)\n",
        "\n",
        "\n",
        "prediction = model.predict(input_data_reshaped)\n",
        "print(prediction[0])\n",
        "if prediction > budget:\n",
        "  print(f\"This car is probably beyond your budget of {budget}\")\n",
        "else:\n",
        "  print(\"You can expect to buy this type of car given your budget\")"
      ]
    },
    {
      "cell_type": "code",
      "source": [
        "print(\"test2\")"
      ],
      "metadata": {
        "id": "fw8oig0VeXsb"
      },
      "execution_count": null,
      "outputs": []
    }
  ]
}